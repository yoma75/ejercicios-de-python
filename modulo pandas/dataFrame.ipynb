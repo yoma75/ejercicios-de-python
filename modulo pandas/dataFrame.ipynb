{
 "metadata": {
  "language_info": {
   "codemirror_mode": {
    "name": "ipython",
    "version": 3
   },
   "file_extension": ".py",
   "mimetype": "text/x-python",
   "name": "python",
   "nbconvert_exporter": "python",
   "pygments_lexer": "ipython3",
   "version": "3.8.0"
  },
  "orig_nbformat": 2,
  "kernelspec": {
   "name": "python380jvsc74a57bd06f8afb08dfe53ed91f95d4669fd41696d6504f1ceffa1c16972a25bccd8be478",
   "display_name": "Python 3.8.0 32-bit"
  },
  "metadata": {
   "interpreter": {
    "hash": "6f8afb08dfe53ed91f95d4669fd41696d6504f1ceffa1c16972a25bccd8be478"
   }
  }
 },
 "nbformat": 4,
 "nbformat_minor": 2,
 "cells": [
  {
   "cell_type": "code",
   "execution_count": 10,
   "metadata": {},
   "outputs": [],
   "source": [
    "import pandas as pd "
   ]
  },
  {
   "cell_type": "code",
   "execution_count": 11,
   "metadata": {},
   "outputs": [
    {
     "output_type": "execute_result",
     "data": {
      "text/plain": [
       "True"
      ]
     },
     "metadata": {},
     "execution_count": 11
    }
   ],
   "source": [
    "import webbrowser\n",
    "website = 'https://es.wikipedia.org/wiki/Anexo:Campeones_de_la_NBA'\n",
    "webbrowser.open(website)"
   ]
  },
  {
   "cell_type": "code",
   "execution_count": 13,
   "metadata": {},
   "outputs": [],
   "source": [
    "dataFrame_nba = pd.read_clipboard()  "
   ]
  },
  {
   "cell_type": "code",
   "execution_count": 14,
   "metadata": {},
   "outputs": [
    {
     "output_type": "execute_result",
     "data": {
      "text/plain": [
       "     Año      Campeón       del    Oeste Resultado     Campeón.1       del.1  \\\n",
       "0   1950  Minneapolis  Lakersn.       2​       4–2      Syracuse  Nationals†   \n",
       "1   1951    Rochester    Royals      4–3       New          York      Knicks   \n",
       "2   1952  Minneapolis    Lakers      4–3       New          York      Knicks   \n",
       "3   1953  Minneapolis   Lakers†      4–1       New          York      Knicks   \n",
       "4   1954  Minneapolis   Lakers†      4–3  Syracuse     Nationals         23​   \n",
       "5   1955          Ft.     Wayne  Pistons       3–4      Syracuse  Nationals†   \n",
       "6   1956          Ft.     Wayne  Pistons       1–4  Philadelphia   Warriors†   \n",
       "7   1957          St.     Louis    Hawks       3–4        Boston    Celtics†   \n",
       "8   1958          St.     Louis    Hawks       4–2        Boston    Celtics†   \n",
       "9   1959  Minneapolis    Lakers      0–4    Boston      Celtics†         28​   \n",
       "10  1960          St.     Louis    Hawks       3–4        Boston    Celtics†   \n",
       "\n",
       "      Este  Ref.  \n",
       "0   19​18​   NaN  \n",
       "1      20​   NaN  \n",
       "2      21​   NaN  \n",
       "3      22​   NaN  \n",
       "4     None   NaN  \n",
       "5      24​   NaN  \n",
       "6      25​   NaN  \n",
       "7      26​   NaN  \n",
       "8      27​   NaN  \n",
       "9     None   NaN  \n",
       "10     29​   NaN  "
      ],
      "text/html": "<div>\n<style scoped>\n    .dataframe tbody tr th:only-of-type {\n        vertical-align: middle;\n    }\n\n    .dataframe tbody tr th {\n        vertical-align: top;\n    }\n\n    .dataframe thead th {\n        text-align: right;\n    }\n</style>\n<table border=\"1\" class=\"dataframe\">\n  <thead>\n    <tr style=\"text-align: right;\">\n      <th></th>\n      <th>Año</th>\n      <th>Campeón</th>\n      <th>del</th>\n      <th>Oeste</th>\n      <th>Resultado</th>\n      <th>Campeón.1</th>\n      <th>del.1</th>\n      <th>Este</th>\n      <th>Ref.</th>\n    </tr>\n  </thead>\n  <tbody>\n    <tr>\n      <th>0</th>\n      <td>1950</td>\n      <td>Minneapolis</td>\n      <td>Lakersn.</td>\n      <td>2​</td>\n      <td>4–2</td>\n      <td>Syracuse</td>\n      <td>Nationals†</td>\n      <td>19​18​</td>\n      <td>NaN</td>\n    </tr>\n    <tr>\n      <th>1</th>\n      <td>1951</td>\n      <td>Rochester</td>\n      <td>Royals</td>\n      <td>4–3</td>\n      <td>New</td>\n      <td>York</td>\n      <td>Knicks</td>\n      <td>20​</td>\n      <td>NaN</td>\n    </tr>\n    <tr>\n      <th>2</th>\n      <td>1952</td>\n      <td>Minneapolis</td>\n      <td>Lakers</td>\n      <td>4–3</td>\n      <td>New</td>\n      <td>York</td>\n      <td>Knicks</td>\n      <td>21​</td>\n      <td>NaN</td>\n    </tr>\n    <tr>\n      <th>3</th>\n      <td>1953</td>\n      <td>Minneapolis</td>\n      <td>Lakers†</td>\n      <td>4–1</td>\n      <td>New</td>\n      <td>York</td>\n      <td>Knicks</td>\n      <td>22​</td>\n      <td>NaN</td>\n    </tr>\n    <tr>\n      <th>4</th>\n      <td>1954</td>\n      <td>Minneapolis</td>\n      <td>Lakers†</td>\n      <td>4–3</td>\n      <td>Syracuse</td>\n      <td>Nationals</td>\n      <td>23​</td>\n      <td>None</td>\n      <td>NaN</td>\n    </tr>\n    <tr>\n      <th>5</th>\n      <td>1955</td>\n      <td>Ft.</td>\n      <td>Wayne</td>\n      <td>Pistons</td>\n      <td>3–4</td>\n      <td>Syracuse</td>\n      <td>Nationals†</td>\n      <td>24​</td>\n      <td>NaN</td>\n    </tr>\n    <tr>\n      <th>6</th>\n      <td>1956</td>\n      <td>Ft.</td>\n      <td>Wayne</td>\n      <td>Pistons</td>\n      <td>1–4</td>\n      <td>Philadelphia</td>\n      <td>Warriors†</td>\n      <td>25​</td>\n      <td>NaN</td>\n    </tr>\n    <tr>\n      <th>7</th>\n      <td>1957</td>\n      <td>St.</td>\n      <td>Louis</td>\n      <td>Hawks</td>\n      <td>3–4</td>\n      <td>Boston</td>\n      <td>Celtics†</td>\n      <td>26​</td>\n      <td>NaN</td>\n    </tr>\n    <tr>\n      <th>8</th>\n      <td>1958</td>\n      <td>St.</td>\n      <td>Louis</td>\n      <td>Hawks</td>\n      <td>4–2</td>\n      <td>Boston</td>\n      <td>Celtics†</td>\n      <td>27​</td>\n      <td>NaN</td>\n    </tr>\n    <tr>\n      <th>9</th>\n      <td>1959</td>\n      <td>Minneapolis</td>\n      <td>Lakers</td>\n      <td>0–4</td>\n      <td>Boston</td>\n      <td>Celtics†</td>\n      <td>28​</td>\n      <td>None</td>\n      <td>NaN</td>\n    </tr>\n    <tr>\n      <th>10</th>\n      <td>1960</td>\n      <td>St.</td>\n      <td>Louis</td>\n      <td>Hawks</td>\n      <td>3–4</td>\n      <td>Boston</td>\n      <td>Celtics†</td>\n      <td>29​</td>\n      <td>NaN</td>\n    </tr>\n  </tbody>\n</table>\n</div>"
     },
     "metadata": {},
     "execution_count": 14
    }
   ],
   "source": [
    "dataFrame_nba"
   ]
  },
  {
   "cell_type": "code",
   "execution_count": 15,
   "metadata": {},
   "outputs": [
    {
     "output_type": "execute_result",
     "data": {
      "text/plain": [
       "Index(['Año', 'Campeón', 'del', 'Oeste', 'Resultado', 'Campeón.1', 'del.1',\n",
       "       'Este', 'Ref.'],\n",
       "      dtype='object')"
      ]
     },
     "metadata": {},
     "execution_count": 15
    }
   ],
   "source": [
    "# Titulo de las columnas\n",
    "dataFrame_nba.columns"
   ]
  },
  {
   "cell_type": "code",
   "execution_count": 16,
   "metadata": {},
   "outputs": [
    {
     "output_type": "execute_result",
     "data": {
      "text/plain": [
       "0          4–2\n",
       "1          New\n",
       "2          New\n",
       "3          New\n",
       "4     Syracuse\n",
       "5          3–4\n",
       "6          1–4\n",
       "7          3–4\n",
       "8          4–2\n",
       "9       Boston\n",
       "10         3–4\n",
       "Name: Resultado, dtype: object"
      ]
     },
     "metadata": {},
     "execution_count": 16
    }
   ],
   "source": [
    "# Mirar el contenido de una columna\n",
    "dataFrame_nba['Resultado']"
   ]
  },
  {
   "cell_type": "code",
   "execution_count": 17,
   "metadata": {},
   "outputs": [
    {
     "output_type": "execute_result",
     "data": {
      "text/plain": [
       "Año                1955\n",
       "Campeón             Ft.\n",
       "del               Wayne\n",
       "Oeste           Pistons\n",
       "Resultado           3–4\n",
       "Campeón.1      Syracuse\n",
       "del.1        Nationals†\n",
       "Este                24​\n",
       "Ref.                NaN\n",
       "Name: 5, dtype: object"
      ]
     },
     "metadata": {},
     "execution_count": 17
    }
   ],
   "source": [
    "# buscar una fila\n",
    "dataFrame_nba.loc[5]"
   ]
  },
  {
   "cell_type": "code",
   "execution_count": 18,
   "metadata": {},
   "outputs": [
    {
     "output_type": "execute_result",
     "data": {
      "text/plain": [
       "    Año      Campeón       del Oeste Resultado Campeón.1       del.1    Este  \\\n",
       "0  1950  Minneapolis  Lakersn.    2​       4–2  Syracuse  Nationals†  19​18​   \n",
       "1  1951    Rochester    Royals   4–3       New      York      Knicks     20​   \n",
       "2  1952  Minneapolis    Lakers   4–3       New      York      Knicks     21​   \n",
       "\n",
       "   Ref.  \n",
       "0   NaN  \n",
       "1   NaN  \n",
       "2   NaN  "
      ],
      "text/html": "<div>\n<style scoped>\n    .dataframe tbody tr th:only-of-type {\n        vertical-align: middle;\n    }\n\n    .dataframe tbody tr th {\n        vertical-align: top;\n    }\n\n    .dataframe thead th {\n        text-align: right;\n    }\n</style>\n<table border=\"1\" class=\"dataframe\">\n  <thead>\n    <tr style=\"text-align: right;\">\n      <th></th>\n      <th>Año</th>\n      <th>Campeón</th>\n      <th>del</th>\n      <th>Oeste</th>\n      <th>Resultado</th>\n      <th>Campeón.1</th>\n      <th>del.1</th>\n      <th>Este</th>\n      <th>Ref.</th>\n    </tr>\n  </thead>\n  <tbody>\n    <tr>\n      <th>0</th>\n      <td>1950</td>\n      <td>Minneapolis</td>\n      <td>Lakersn.</td>\n      <td>2​</td>\n      <td>4–2</td>\n      <td>Syracuse</td>\n      <td>Nationals†</td>\n      <td>19​18​</td>\n      <td>NaN</td>\n    </tr>\n    <tr>\n      <th>1</th>\n      <td>1951</td>\n      <td>Rochester</td>\n      <td>Royals</td>\n      <td>4–3</td>\n      <td>New</td>\n      <td>York</td>\n      <td>Knicks</td>\n      <td>20​</td>\n      <td>NaN</td>\n    </tr>\n    <tr>\n      <th>2</th>\n      <td>1952</td>\n      <td>Minneapolis</td>\n      <td>Lakers</td>\n      <td>4–3</td>\n      <td>New</td>\n      <td>York</td>\n      <td>Knicks</td>\n      <td>21​</td>\n      <td>NaN</td>\n    </tr>\n  </tbody>\n</table>\n</div>"
     },
     "metadata": {},
     "execution_count": 18
    }
   ],
   "source": [
    "# Muestra las 3 primeras lineas\n",
    "dataFrame_nba.head(3)"
   ]
  },
  {
   "cell_type": "code",
   "execution_count": 20,
   "metadata": {},
   "outputs": [
    {
     "output_type": "execute_result",
     "data": {
      "text/plain": [
       "     Año      Campeón     del  Oeste Resultado Campeón.1     del.1  Este  Ref.\n",
       "9   1959  Minneapolis  Lakers    0–4    Boston  Celtics†       28​  None   NaN\n",
       "10  1960          St.   Louis  Hawks       3–4    Boston  Celtics†   29​   NaN"
      ],
      "text/html": "<div>\n<style scoped>\n    .dataframe tbody tr th:only-of-type {\n        vertical-align: middle;\n    }\n\n    .dataframe tbody tr th {\n        vertical-align: top;\n    }\n\n    .dataframe thead th {\n        text-align: right;\n    }\n</style>\n<table border=\"1\" class=\"dataframe\">\n  <thead>\n    <tr style=\"text-align: right;\">\n      <th></th>\n      <th>Año</th>\n      <th>Campeón</th>\n      <th>del</th>\n      <th>Oeste</th>\n      <th>Resultado</th>\n      <th>Campeón.1</th>\n      <th>del.1</th>\n      <th>Este</th>\n      <th>Ref.</th>\n    </tr>\n  </thead>\n  <tbody>\n    <tr>\n      <th>9</th>\n      <td>1959</td>\n      <td>Minneapolis</td>\n      <td>Lakers</td>\n      <td>0–4</td>\n      <td>Boston</td>\n      <td>Celtics†</td>\n      <td>28​</td>\n      <td>None</td>\n      <td>NaN</td>\n    </tr>\n    <tr>\n      <th>10</th>\n      <td>1960</td>\n      <td>St.</td>\n      <td>Louis</td>\n      <td>Hawks</td>\n      <td>3–4</td>\n      <td>Boston</td>\n      <td>Celtics†</td>\n      <td>29​</td>\n      <td>NaN</td>\n    </tr>\n  </tbody>\n</table>\n</div>"
     },
     "metadata": {},
     "execution_count": 20
    }
   ],
   "source": [
    "# Muestra los 2 ultimos\n",
    "dataFrame_nba.tail(2)"
   ]
  },
  {
   "cell_type": "code",
   "execution_count": 21,
   "metadata": {},
   "outputs": [],
   "source": [
    "# CREAR DICCIONARIO APARTIR DE UNAS LISTAS\n",
    "lista_asignaturas = ['historia','fisica','biologia']\n",
    "lista_notas = [8,7,9]\n",
    "diccionario = {'Asignaturas':lista_asignaturas, 'Notas':lista_notas}"
   ]
  },
  {
   "cell_type": "code",
   "execution_count": 22,
   "metadata": {},
   "outputs": [
    {
     "output_type": "execute_result",
     "data": {
      "text/plain": [
       "{'Asignaturas': ['historia', 'fisica', 'biologia'], 'Notas': [8, 7, 9]}"
      ]
     },
     "metadata": {},
     "execution_count": 22
    }
   ],
   "source": [
    "diccionario"
   ]
  },
  {
   "cell_type": "code",
   "execution_count": 23,
   "metadata": {},
   "outputs": [],
   "source": [
    "# CREAR DATAFRAME APARTIR DEL DICCIONARIO\n",
    "dataframe_notas = pd.DataFrame(diccionario)"
   ]
  },
  {
   "cell_type": "code",
   "execution_count": 24,
   "metadata": {},
   "outputs": [
    {
     "output_type": "execute_result",
     "data": {
      "text/plain": [
       "  Asignaturas  Notas\n",
       "0    historia      8\n",
       "1      fisica      7\n",
       "2    biologia      9"
      ],
      "text/html": "<div>\n<style scoped>\n    .dataframe tbody tr th:only-of-type {\n        vertical-align: middle;\n    }\n\n    .dataframe tbody tr th {\n        vertical-align: top;\n    }\n\n    .dataframe thead th {\n        text-align: right;\n    }\n</style>\n<table border=\"1\" class=\"dataframe\">\n  <thead>\n    <tr style=\"text-align: right;\">\n      <th></th>\n      <th>Asignaturas</th>\n      <th>Notas</th>\n    </tr>\n  </thead>\n  <tbody>\n    <tr>\n      <th>0</th>\n      <td>historia</td>\n      <td>8</td>\n    </tr>\n    <tr>\n      <th>1</th>\n      <td>fisica</td>\n      <td>7</td>\n    </tr>\n    <tr>\n      <th>2</th>\n      <td>biologia</td>\n      <td>9</td>\n    </tr>\n  </tbody>\n</table>\n</div>"
     },
     "metadata": {},
     "execution_count": 24
    }
   ],
   "source": [
    "dataframe_notas"
   ]
  },
  {
   "cell_type": "code",
   "execution_count": null,
   "metadata": {},
   "outputs": [],
   "source": []
  }
 ]
}